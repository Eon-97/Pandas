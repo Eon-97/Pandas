{
 "metadata": {
  "language_info": {
   "codemirror_mode": {
    "name": "ipython",
    "version": 3
   },
   "file_extension": ".py",
   "mimetype": "text/x-python",
   "name": "python",
   "nbconvert_exporter": "python",
   "pygments_lexer": "ipython3",
   "version": "3.8.5-final"
  },
  "orig_nbformat": 2,
  "kernelspec": {
   "name": "python3",
   "display_name": "Python 3",
   "language": "python"
  }
 },
 "nbformat": 4,
 "nbformat_minor": 2,
 "cells": [
  {
   "cell_type": "code",
   "execution_count": 3,
   "metadata": {},
   "outputs": [
    {
     "output_type": "stream",
     "name": "stdout",
     "text": [
      "a     apple\nb    banana\nc    potato\ndtype: object\n"
     ]
    }
   ],
   "source": [
    "import pandas as pd\n",
    "\n",
    "array = pd.Series(['apple','banana','potato'] , index=['a','b','c'] )\n",
    "\n",
    "print(array)"
   ]
  },
  {
   "cell_type": "code",
   "execution_count": 4,
   "metadata": {},
   "outputs": [
    {
     "output_type": "stream",
     "name": "stdout",
     "text": [
      "apple\n"
     ]
    }
   ],
   "source": [
    "print(array['a']) "
   ]
  },
  {
   "cell_type": "code",
   "execution_count": null,
   "metadata": {},
   "outputs": [],
   "source": [
    "word_dict = {\n",
    "    'apple' : '사과',\n",
    "    'banana' : '바나나',\n",
    "    'potato' : '감자'\n",
    "}\n",
    "\n",
    "frequency_dict = {\n",
    "    'apple' : 10,\n",
    "    'banana' : 20,\n",
    "    'potato': 30\n",
    "}\n",
    "\n",
    "word = pd.Series(word_dict)\n",
    "frequency = pd.Series(frequency_dict)\n",
    "\n",
    "# 이름(name) : 값 (values)\n",
    "summary = pd.DataFrame({\n",
    "    'word' : word,\n",
    "    'frequency': frequency\n",
    "})\n",
    "print(summary)"
   ]
  }
 ]
}