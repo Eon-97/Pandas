{
 "metadata": {
  "language_info": {
   "codemirror_mode": {
    "name": "ipython",
    "version": 3
   },
   "file_extension": ".py",
   "mimetype": "text/x-python",
   "name": "python",
   "nbconvert_exporter": "python",
   "pygments_lexer": "ipython3",
   "version": "3.8.5-final"
  },
  "orig_nbformat": 2,
  "kernelspec": {
   "name": "python3",
   "display_name": "Python 3",
   "language": "python"
  }
 },
 "nbformat": 4,
 "nbformat_minor": 2,
 "cells": [
  {
   "cell_type": "code",
   "execution_count": 1,
   "metadata": {},
   "outputs": [],
   "source": [
    "import pandas as pd\n",
    "\n",
    "word_dict = dict(\n",
    "    apple = '사과',\n",
    "    banana = '바나나',\n",
    "    potato = '감자'\n",
    ")\n",
    "\n",
    "frequency_dict = dict(\n",
    "    apple = 10,\n",
    "    banana = 20,\n",
    "    potato = 30\n",
    ")\n",
    "\n",
    "importance_dict = dict(\n",
    "    apple = 3,\n",
    "    banana = 2,\n",
    "    potato = 1\n",
    ")\n",
    "# 디렉터리들을  series로 만든다\n",
    "word = pd.Series(word_dict)\n",
    "frequency = pd.Series(frequency_dict)\n",
    "importance = pd.Series(importance_dict)\n",
    "\n",
    "# dataframe을 사용하여 표의 형태로 정의한다\n",
    "summary = pd.DataFrame(dict(\n",
    "    word = word,\n",
    "    frequency = frequency,\n",
    "    importance = importance\n",
    "))"
   ]
  },
  {
   "cell_type": "code",
   "execution_count": 44,
   "metadata": {},
   "outputs": [
    {
     "output_type": "stream",
     "name": "stdout",
     "text": [
      "       word  frequency  importance  score\napple    사과         10           5     50\nbanana  바나나         20           2     40\npotato   감자         30           1     30\ntomato  토마토          1           1      1 \n\napple     50\nbanana    40\npotato    30\ntomato     1\ndtype: int64\n"
     ]
    },
    {
     "output_type": "execute_result",
     "data": {
      "text/plain": [
       "'\\nscore라는 변수에 summary라는 dataframe의 frequency의 값과 importance의 값을 곱한 결과를 넣어준다\\n'"
      ]
     },
     "metadata": {},
     "execution_count": 44
    }
   ],
   "source": [
    "# 연산\n",
    "score = summary['frequency'] * summary['importance']\n",
    "summary['score'] = score # score열 추가 그리고 그 값을 변수 score로 지정\n",
    "print(summary,'\\n')\n",
    "print(score)\n",
    "'''\n",
    "score라는 변수에 summary라는 dataframe의 frequency의 값과 importance의 값을 곱한 결과를  넣어 줍니다.\n",
    "summary라는 dataframe에 score 이라는 열을 추가해주고, 그 값을 변수 scroe로 지정해줍니다. (frequency*importance) \n",
    "'''"
   ]
  },
  {
   "cell_type": "code",
   "execution_count": 3,
   "metadata": {},
   "outputs": [
    {
     "output_type": "stream",
     "name": "stdout",
     "text": [
      "        importance  score\nbanana           2     40\npotato           1     30\n"
     ]
    }
   ],
   "source": [
    "# 이름을 기준으로 슬라이싱\n",
    "print(\n",
    "    summary.loc[\n",
    "        'banana':'potato' , 'importance':\n",
    "    ]\n",
    ")\n",
    "'''\n",
    "loc를 이용하여 이름을 기준으로 슬라이싱을 시도합니다.\n",
    "summary에서 banana에서부터 potato까지를 (열)\n",
    "importance부터 끝까지를 (행)로 값을 슬라이싱하여 출력합니다.\n",
    "'''"
   ]
  },
  {
   "cell_type": "code",
   "execution_count": 17,
   "metadata": {},
   "outputs": [
    {
     "output_type": "stream",
     "name": "stdout",
     "text": [
      "        frequency  importance  score\napple          10           3     30\nbanana         20           2     40\npotato         30           1     30\n"
     ]
    }
   ],
   "source": [
    "# index를 기준으로 슬라이싱\n",
    "print(\n",
    "    summary.iloc[\n",
    "        0:,1:\n",
    "    ]\n",
    ")\n",
    "'''\n",
    "iloc를 이용해서 index를 기준으로 슬라이싱을 시도합니다.\n",
    "summary에서 열 자리는 0부터 끝까지 ,행 자리는 1부터 끝까지\n",
    "즉, apple부터 끝까지  , frequency부터 score까지 슬라이싱하여 출력합니다.\n",
    "'''"
   ]
  },
  {
   "cell_type": "code",
   "execution_count": 46,
   "metadata": {},
   "outputs": [
    {
     "output_type": "stream",
     "name": "stdout",
     "text": [
      "       word  frequency  importance  score\napple    사과         10         100     50\nbanana  바나나         20           2     40\npotato   감자         30           1     30\ntomato  토마토          1           1      1 \n\n"
     ]
    }
   ],
   "source": [
    "print(summary , '\\n')\n",
    "\n",
    "# 데이터의 변경 \n",
    "summary.loc['apple','importance'] =100\n",
    "'''\n",
    "summary의 행의 값이 apple이고 열의 값이 importance인 data값을 100으로 수정합니다. \n",
    "'''\n",
    "\n",
    "# 새로운 데이터 삽입\n",
    "summary.loc['tomato'] =['토마토',1,1,1]\n",
    "'''\n",
    "loc를 이용해서 summary에 tomato라는 열을 추가하고 행의 값을 각 토마토 ,1 ,1 ,1로 정하여 삽입합니다.\n",
    "'''"
   ]
  },
  {
   "cell_type": "code",
   "execution_count": 43,
   "metadata": {},
   "outputs": [
    {
     "output_type": "stream",
     "name": "stdout",
     "text": [
      "       word  frequency  importance  score\napple    사과         10           5     30\nbanana  바나나         20           2     40\npotato   감자         30           1     30\ntomato  토마토          1           1      1\n"
     ]
    }
   ],
   "source": [
    "# 엑셀로 내보내기 \n",
    "summary.to_csv(\"summary.csv\" , encoding=\"utf-8-sig\")\n",
    "# 엑셀 불러오기\n",
    "saved = pd.read_csv(\"summary.csv\", index_col=0)\n",
    "\n",
    "print(saved)"
   ]
  },
  {
   "cell_type": "code",
   "execution_count": null,
   "metadata": {},
   "outputs": [],
   "source": []
  }
 ]
}